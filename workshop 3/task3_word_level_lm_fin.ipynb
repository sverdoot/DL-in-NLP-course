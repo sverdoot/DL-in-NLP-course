{
  "nbformat": 4,
  "nbformat_minor": 0,
  "metadata": {
    "colab": {
      "name": "task3_word_level_lm fin.ipynb",
      "version": "0.3.2",
      "provenance": [],
      "collapsed_sections": [],
      "include_colab_link": true
    },
    "language_info": {
      "codemirror_mode": {
        "name": "ipython",
        "version": 3
      },
      "file_extension": ".py",
      "mimetype": "text/x-python",
      "name": "python",
      "nbconvert_exporter": "python",
      "pygments_lexer": "ipython3",
      "version": "3.6.4"
    },
    "kernelspec": {
      "name": "python3",
      "display_name": "Python 3"
    },
    "accelerator": "GPU"
  },
  "cells": [
    {
      "cell_type": "markdown",
      "metadata": {
        "id": "view-in-github",
        "colab_type": "text"
      },
      "source": [
        "<a href=\"https://colab.research.google.com/github/sverdoot/DL-in-NLP-course/blob/master/workshop%203/task3_word_level_lm_fin.ipynb\" target=\"_parent\"><img src=\"https://colab.research.google.com/assets/colab-badge.svg\" alt=\"Open In Colab\"/></a>"
      ]
    },
    {
      "metadata": {
        "id": "hgXVVZCVMkqH",
        "colab_type": "text"
      },
      "cell_type": "markdown",
      "source": [
        "## Word-level language model\n",
        "\n",
        "In the previous tasks you have written character-level language model. Time has come to grow up.\n",
        "\n",
        "Word language models face a lot of new problems for you to solve. There are some of them:\n",
        "  * How to read long texts (Gbs of data)\n",
        "  * How to build vocabulry (and to effectively reduce its size)\n",
        "  * How to deal with out-of-vocabulary (OOV) words # random vectors?\n",
        "  * How to construct batch of _uncorrelated_ examples (not from the same text)\n",
        "  * How and when to drop RNN state\n",
        "  * What special tokens should be used? BOS? EOS?\n",
        "\n",
        "**Results of this task:**\n",
        "  * Text preprocessing\n",
        "  * Batcher\n",
        "  * Trained language model:\n",
        "    * model should use truncated backpropagation through time\n",
        "    * model should drop RNN state between different documents (eg. wikipedia articles)\n",
        "  * Test set perplexity\n",
        "\n",
        "**Additional points:**\n",
        "  * Text preprocessing and batching that works with large files (does not load all the file to memory)\n",
        "  * AWD-LSTM or other uncommon RNN architectures (SRU, QRNN)\n",
        "  * Use popular dataset \n",
        "\n",
        "It is becoming common to use [byte-pair encoding](https://github.com/google/sentencepiece) to solve vocabulary problem. Use it! Here is an [example](https://github.com/google/sentencepiece/blob/master/python/sentencepiece_python_module_example.ipynb)."
      ]
    },
    {
      "metadata": {
        "id": "dgvhUW8Il-qy",
        "colab_type": "code",
        "outputId": "78534bf8-5a44-43e6-eeaf-7c2099ed58b3",
        "colab": {
          "base_uri": "https://localhost:8080/",
          "height": 34
        }
      },
      "cell_type": "code",
      "source": [
        "!pip install sentencepiece"
      ],
      "execution_count": 0,
      "outputs": [
        {
          "output_type": "stream",
          "text": [
            "Requirement already satisfied: sentencepiece in /usr/local/lib/python3.6/dist-packages (0.1.81)\n"
          ],
          "name": "stdout"
        }
      ]
    },
    {
      "metadata": {
        "id": "xqCarLzcMkqJ",
        "colab_type": "code",
        "colab": {}
      },
      "cell_type": "code",
      "source": [
        "import sentencepiece as spm\n",
        "import numpy as np\n",
        "import torch\n",
        "import torch.nn as nn\n",
        "import torch.nn.functional as func\n",
        "from torch.autograd import Variable\n",
        "import random\n",
        "import matplotlib.pyplot as plt\n",
        "import torch.utils.data as utils\n",
        "import time\n",
        "import csv\n",
        "import pandas as pd\n",
        "import time\n",
        "import math"
      ],
      "execution_count": 0,
      "outputs": []
    },
    {
      "metadata": {
        "id": "8I-kehlTMkqP",
        "colab_type": "code",
        "outputId": "5db01b6a-2081-4d14-a9d9-ad25563dee45",
        "colab": {
          "base_uri": "https://localhost:8080/",
          "height": 34
        }
      },
      "cell_type": "code",
      "source": [
        "USE_GPU = True\n",
        "\n",
        "dtype = torch.float32\n",
        "\n",
        "if USE_GPU and torch.cuda.is_available():\n",
        "    device = torch.device('cuda')\n",
        "else:\n",
        "    device = torch.device('cpu')\n",
        "print('using device:', device)"
      ],
      "execution_count": 0,
      "outputs": [
        {
          "output_type": "stream",
          "text": [
            "using device: cuda\n"
          ],
          "name": "stdout"
        }
      ]
    },
    {
      "metadata": {
        "id": "Z8kyDgTTM1DQ",
        "colab_type": "code",
        "outputId": "5d99c12e-c527-4526-b8b0-0d1b30d52435",
        "colab": {
          "base_uri": "https://localhost:8080/",
          "height": 54
        }
      },
      "cell_type": "code",
      "source": [
        "from google.colab import drive\n",
        "drive.mount('/content/gdrive')"
      ],
      "execution_count": 0,
      "outputs": [
        {
          "output_type": "stream",
          "text": [
            "Drive already mounted at /content/gdrive; to attempt to forcibly remount, call drive.mount(\"/content/gdrive\", force_remount=True).\n"
          ],
          "name": "stdout"
        }
      ]
    },
    {
      "metadata": {
        "id": "LjGxnRM8MkqX",
        "colab_type": "text"
      },
      "cell_type": "markdown",
      "source": [
        "### Download & preprocess. Here sentencepiece + vocabulary restriction is used. Only tokens with 200+ frequency contains in vocabulary.\n",
        "I get data from economic news articles. Contributors read snippets of news articles. Dataset contains these artilces as well as the dates, source titles, and text. Dates range from 1951 to 2014."
      ]
    },
    {
      "metadata": {
        "scrolled": true,
        "id": "p4QPldqmMkqX",
        "colab_type": "code",
        "outputId": "dc7d71e5-d531-4825-9ef8-b60a2d5a985a",
        "colab": {
          "base_uri": "https://localhost:8080/",
          "height": 224
        }
      },
      "cell_type": "code",
      "source": [
        "!wget https://d1p17r2m4rzlbo.cloudfront.net/wp-content/uploads/2016/03/Full-Economic-News-DFE-839861.csv"
      ],
      "execution_count": 0,
      "outputs": [
        {
          "output_type": "stream",
          "text": [
            "--2019-04-13 16:27:41--  https://d1p17r2m4rzlbo.cloudfront.net/wp-content/uploads/2016/03/Full-Economic-News-DFE-839861.csv\n",
            "Resolving d1p17r2m4rzlbo.cloudfront.net (d1p17r2m4rzlbo.cloudfront.net)... 13.35.115.97, 13.35.115.48, 13.35.115.27, ...\n",
            "Connecting to d1p17r2m4rzlbo.cloudfront.net (d1p17r2m4rzlbo.cloudfront.net)|13.35.115.97|:443... connected.\n",
            "HTTP request sent, awaiting response... 200 OK\n",
            "Length: 12383529 (12M) [application/octet-stream]\n",
            "Saving to: ‘Full-Economic-News-DFE-839861.csv.1’\n",
            "\n",
            "\r          Full-Econ   0%[                    ]       0  --.-KB/s               \r         Full-Econo  58%[==========>         ]   6.93M  34.6MB/s               \rFull-Economic-News- 100%[===================>]  11.81M  45.2MB/s    in 0.3s    \n",
            "\n",
            "2019-04-13 16:27:41 (45.2 MB/s) - ‘Full-Economic-News-DFE-839861.csv.1’ saved [12383529/12383529]\n",
            "\n"
          ],
          "name": "stdout"
        }
      ]
    },
    {
      "metadata": {
        "id": "r8YvtuEEMkqb",
        "colab_type": "code",
        "colab": {}
      },
      "cell_type": "code",
      "source": [
        "df = pd.read_csv('Full-Economic-News-DFE-839861.csv',encoding='latin-1')\n",
        "all_texts = df['text'] #you can also use df['column_name']"
      ],
      "execution_count": 0,
      "outputs": []
    },
    {
      "metadata": {
        "id": "CgqvmUE0lmVi",
        "colab_type": "code",
        "colab": {}
      },
      "cell_type": "code",
      "source": [
        "val_texts = list(all_texts)[1000:2000]\n",
        "all_texts = all_texts[0:1000]"
      ],
      "execution_count": 0,
      "outputs": []
    },
    {
      "metadata": {
        "id": "Db0gzkk9lLu6",
        "colab_type": "code",
        "outputId": "5591284c-4811-4410-9012-8db9efc5a39b",
        "colab": {
          "base_uri": "https://localhost:8080/",
          "height": 34
        }
      },
      "cell_type": "code",
      "source": [
        "len(all_texts)"
      ],
      "execution_count": 0,
      "outputs": [
        {
          "output_type": "execute_result",
          "data": {
            "text/plain": [
              "1000"
            ]
          },
          "metadata": {
            "tags": []
          },
          "execution_count": 106
        }
      ]
    },
    {
      "metadata": {
        "scrolled": true,
        "id": "rNkn_Bq0Mkqe",
        "colab_type": "code",
        "outputId": "ca07a66a-d460-4bec-d047-abfb38c99038",
        "colab": {
          "base_uri": "https://localhost:8080/",
          "height": 68
        }
      },
      "cell_type": "code",
      "source": [
        "print('Longest text consists of {} symbols'.format(max([len(i) for i in all_texts])))\n",
        "print('Shortest text consists of {} symbols'.format(min([len(i) for i in all_texts])))\n",
        "print('Average text consists of {} symbols'.format(int(np.average([len(i) for i in all_texts]))))"
      ],
      "execution_count": 0,
      "outputs": [
        {
          "output_type": "stream",
          "text": [
            "Longest text consists of 4988 symbols\n",
            "Shortest text consists of 113 symbols\n",
            "Average text consists of 1378 symbols\n"
          ],
          "name": "stdout"
        }
      ]
    },
    {
      "metadata": {
        "id": "PvlShSUOMkqk",
        "colab_type": "text"
      },
      "cell_type": "markdown",
      "source": [
        "Download all texts in text.txt, later use in sentensepiecetrainer"
      ]
    },
    {
      "metadata": {
        "id": "vgGQNy53Mkql",
        "colab_type": "code",
        "colab": {}
      },
      "cell_type": "code",
      "source": [
        "myfile = open('text.txt', 'w')\n",
        "for line in all_texts:\n",
        "    myfile.write(\"%s\\n\" % line.lower().replace('</br></br>',' '))\n",
        "myfile.close()"
      ],
      "execution_count": 0,
      "outputs": []
    },
    {
      "metadata": {
        "scrolled": true,
        "id": "MnQX5ReVMkqn",
        "colab_type": "code",
        "outputId": "8644dfd7-b5a7-4f28-a9f4-d83b63d0fd42",
        "colab": {
          "base_uri": "https://localhost:8080/",
          "height": 34
        }
      },
      "cell_type": "code",
      "source": [
        "spm.SentencePieceTrainer.train('--input=text.txt --model_prefix=m --vocab_size=2000')\n",
        "sp = spm.SentencePieceProcessor()\n",
        "sp.load('m.model')\n",
        "# Gets all tokens as Python list.\n",
        "vocabs = [sp.id_to_piece(id) for id in range(sp.get_piece_size())]\n",
        "print('Vocab consists of {} words'.format(len(vocabs)))"
      ],
      "execution_count": 0,
      "outputs": [
        {
          "output_type": "stream",
          "text": [
            "Vocab consists of 2000 words\n"
          ],
          "name": "stdout"
        }
      ]
    },
    {
      "metadata": {
        "id": "PH9vJuROMkqr",
        "colab_type": "text"
      },
      "cell_type": "markdown",
      "source": [
        "Compute the frequency of each token in the training data."
      ]
    },
    {
      "metadata": {
        "scrolled": false,
        "id": "-xY0RHmsMkqs",
        "colab_type": "code",
        "colab": {}
      },
      "cell_type": "code",
      "source": [
        "freq = {}\n",
        "with open('text.txt', 'r') as f:\n",
        "    for line in f:\n",
        "        line = line.rstrip()\n",
        "        for piece in sp.encode_as_pieces(line):\n",
        "            freq.setdefault(piece, 0)\n",
        "            freq[piece] += 1"
      ],
      "execution_count": 0,
      "outputs": []
    },
    {
      "metadata": {
        "id": "A8Zx0FJmMkqv",
        "colab_type": "text"
      },
      "cell_type": "markdown",
      "source": [
        "Let's reduce the vocabulary, only words with frequency more than 200 remain, only $\\sim 300+$ words remain.\n",
        "\n",
        "If the subword would be unknown, \"UNK\"  token would be used"
      ]
    },
    {
      "metadata": {
        "scrolled": false,
        "id": "mAsyBuNUMkqw",
        "colab_type": "code",
        "outputId": "4a8a9f15-edff-49ce-d206-3d346bdd0c07",
        "colab": {
          "base_uri": "https://localhost:8080/",
          "height": 34
        }
      },
      "cell_type": "code",
      "source": [
        "s = 0\n",
        "for i in freq:\n",
        "    if freq[i] > 200:\n",
        "        s += 1\n",
        "print(s)"
      ],
      "execution_count": 0,
      "outputs": [
        {
          "output_type": "stream",
          "text": [
            "312\n"
          ],
          "name": "stdout"
        }
      ]
    },
    {
      "metadata": {
        "scrolled": true,
        "id": "pns0i-LKMkq0",
        "colab_type": "code",
        "outputId": "49e824e8-dcd7-45e9-a3e5-0619e88f5b2a",
        "colab": {
          "base_uri": "https://localhost:8080/",
          "height": 139
        }
      },
      "cell_type": "code",
      "source": [
        "print(sp.encode_as_pieces('this is a test.'))\n",
        "print(sp.encode_as_pieces('hello world football putin russia'))\n",
        "print(len(vocabs))\n",
        "vocabs = list(filter(lambda x : x in freq and freq[x] > 200, vocabs))\n",
        "sp.set_vocabulary(vocabs)\n",
        "print(sp.encode_as_ids('this is a test.'))\n",
        "print(sp.encode_as_pieces('hello world football putin russia'))\n",
        "print(len(vocabs))"
      ],
      "execution_count": 0,
      "outputs": [
        {
          "output_type": "stream",
          "text": [
            "['▁this', '▁is', '▁a', '▁t', 'est', '.']\n",
            "['▁he', 'll', 'o', '▁world', '▁f', 'o', 'o', 't', 'b', 'all', '▁put', 'in', '▁ru', 's', 's', 'ia']\n",
            "2000\n",
            "[68, 24, 7, 177, 211, 4]\n",
            "['▁he', 'll', 'o', '▁w', 'or', 'l', 'd', '▁f', 'o', 'o', 't', 'b', 'al', 'l', '▁p', 'ut', 'in', '▁', 'r', 'us', 's', 'i', 'a']\n",
            "312\n"
          ],
          "name": "stdout"
        }
      ]
    },
    {
      "metadata": {
        "scrolled": false,
        "id": "i_dXlSrYMkq3",
        "colab_type": "code",
        "outputId": "b0c09e76-69b4-49bc-c6da-c96b113c8531",
        "colab": {
          "base_uri": "https://localhost:8080/",
          "height": 54
        }
      },
      "cell_type": "code",
      "source": [
        "vocabs.append('<UNK>')\n",
        "vocabs.sort()\n",
        "print(vocabs)"
      ],
      "execution_count": 0,
      "outputs": [
        {
          "output_type": "stream",
          "text": [
            "['\"', '&', \"'\", ')', ',', '-', '.', '.\"', '0', '1', '2', '3', '4', '5', '5%', '6', '7', '8', '9', ':', '<UNK>', 'a', 'able', 'age', 'al', 'an', 'and', 'ar', 'as', 'at', 'ate', 'ation', 'b', 'c', 'ce', 'ch', 'ck', 'com', 'd', 'e', 'ed', 'el', 'en', 'end', 'ent', 'er', 'ers', 'es', 'est', 'et', 'f', 'g', 'h', 'ha', 'hi', 'i', 'ic', 'id', 'if', 'ight', 'il', 'im', 'in', 'ing', 'ion', 'ir', 'is', 'ist', 'it', 'ity', 'ive', 'k', 'l', 'la', 'le', 'li', 'll', 'lo', 'ly', 'm', 'man', 'many', 'ment', 'min', 'n', 'ne', 'o', 'ol', 'on', 'or', 'p', 'qu', 'r', 'ra', 're', 'ri', 'ro', 's', 'se', 'st', 't', 'ter', 'term', 'th', 'the', 'ting', 'u', 'ul', 'um', 'un', 'ure', 'us', 'ut', 'v', 've', 'ver', 'w', 'x', 'y', 'year', 'z', '▁', '▁\"', '▁$1', '▁(', '▁--', '▁0.', '▁1.', '▁19', '▁2', '▁3', '▁4', '▁5', '▁a', '▁about', '▁after', '▁against', '▁al', '▁all', '▁also', '▁an', '▁analysts', '▁and', '▁are', '▁as', '▁at', '▁average', '▁b', '▁back', '▁bank', '▁banks', '▁be', '▁because', '▁been', '▁billion', '▁bond', '▁bonds', '▁but', '▁by', '▁c', '▁can', '▁co', '▁companies', '▁company', '▁con', '▁could', '▁credit', '▁d', '▁de', '▁debt', '▁do', '▁dollar', '▁dow', '▁down', '▁e', '▁economic', '▁economy', '▁even', '▁ex', '▁exchange', '▁f', '▁fed', '▁federal', '▁fell', '▁financial', '▁first', '▁for', '▁from', '▁government', '▁growth', '▁had', '▁has', '▁have', '▁he', '▁high', '▁higher', '▁his', '▁i', '▁if', '▁in', '▁inc', '▁index', '▁industrial', '▁inflation', '▁interest', '▁into', '▁investors', '▁is', '▁it', '▁its', '▁j', '▁just', '▁k', '▁last', '▁late', '▁long', '▁low', '▁lower', '▁m', '▁ma', '▁make', '▁market', '▁markets', '▁may', '▁million', '▁money', '▁month', '▁months', '▁more', '▁most', '▁move', '▁mr', '▁much', '▁new', '▁no', '▁not', '▁now', '▁of', '▁on', '▁one', '▁or', '▁other', '▁out', '▁over', '▁p', '▁pa', '▁part', '▁points', '▁policy', '▁pre', '▁president', '▁price', '▁prices', '▁pro', '▁quarter', '▁rate', '▁rates', '▁re', '▁recent', '▁report', '▁reserve', '▁rise', '▁ro', '▁rose', '▁s', '▁said', '▁say', '▁says', '▁short', '▁since', '▁so', '▁some', '▁st', '▁still', '▁stock', '▁stocks', '▁su', '▁such', '▁t', '▁than', '▁that', '▁the', '▁their', '▁there', '▁they', '▁this', '▁time', '▁to', '▁trade', '▁trading', '▁treasury', '▁two', '▁u', '▁un', '▁up', '▁w', '▁was', '▁we', '▁week', '▁were', '▁what', '▁when', '▁which', '▁while', '▁who', '▁will', '▁with', '▁would', '▁year', '▁years', '▁yesterday', '▁york', '▁you']\n"
          ],
          "name": "stdout"
        }
      ]
    },
    {
      "metadata": {
        "id": "RVS5FgO2Mkq6",
        "colab_type": "text"
      },
      "cell_type": "markdown",
      "source": [
        "Create own dict of indexes of words from vocab + reversed"
      ]
    },
    {
      "metadata": {
        "id": "ah1muPsZMkq6",
        "colab_type": "code",
        "colab": {}
      },
      "cell_type": "code",
      "source": [
        "idx_2_word = dict(enumerate(vocabs))\n",
        "word_2_idx = {v: k for k, v in idx_2_word.items()}"
      ],
      "execution_count": 0,
      "outputs": []
    },
    {
      "metadata": {
        "id": "6f4w-miZ3gJu",
        "colab_type": "text"
      },
      "cell_type": "markdown",
      "source": [
        "##Batcher"
      ]
    },
    {
      "metadata": {
        "id": "_UnBWEoHMkq9",
        "colab_type": "code",
        "colab": {}
      },
      "cell_type": "code",
      "source": [
        "class Batch:\n",
        "    def __init__(self, word_2_idx, idx_2_word, all_texts, batch_size, length):\n",
        "        self.word_2_idx = word_2_idx\n",
        "        self.idx_2_word = idx_2_word\n",
        "        self.length = length\n",
        "        self.data = [self.preprocess(sp.encode_as_ids(all_texts[i])) for i in range(len(all_texts))]\n",
        "        self.batch_size =  batch_size\n",
        "        self.text = [-1] * self.batch_size\n",
        "        self.current_symbol = [0] * self.batch_size\n",
        "        self.new = [False] * self.batch_size\n",
        "        \n",
        "    def preprocess(self, sequence):\n",
        "        return [i if i in self.idx_2_word else self.word_2_idx['<UNK>'] for i in sequence]\n",
        "    \n",
        "    def get_index(self):\n",
        "        '''\n",
        "        get index of random appropriate text\n",
        "        '''\n",
        "        i = random.randint(0, len(self.data)-1)\n",
        "        current_len = len(self.data[i])\n",
        "        while (current_len < self.length):\n",
        "            i = random.randint(0, len(self.data)-1)\n",
        "            current_len = len(self.data[i])\n",
        "        return i\n",
        "        \n",
        "    def make_batch(self):\n",
        "        '''\n",
        "        inputs: None\n",
        "        outputs: torch tensor [batch_size x self.longest-1] x 2: sample : pred + new text or not\n",
        "        '''\n",
        "        for i in range(self.batch_size):\n",
        "            if self.text[i] == -1 or (len(self.data[self.text[i]]) <= self.current_symbol[i]+ self.length + 1):\n",
        "                self.text[i] = self.get_index()\n",
        "                self.current_symbol[i] = 0\n",
        "                self.new[i] = True\n",
        "            else:\n",
        "                self.new[i] = False\n",
        "            \n",
        "        sample = torch.LongTensor(self.batch_size, self.length-1)\n",
        "        pred = torch.LongTensor(self.batch_size, self.length-1)\n",
        "        \n",
        "        for i in range(self.batch_size):# make batch\n",
        "            s = torch.Tensor(self.data[self.text[i]][self.current_symbol[i]:self.current_symbol[i]+self.length])\n",
        "            self.current_symbol[i] += self.length\n",
        "            sample[i] = (s[:-1])\n",
        "            pred[i] = (s[1:])\n",
        "            \n",
        "        sample = sample.cuda()\n",
        "        pred = pred.cuda()\n",
        "        \n",
        "        return sample, pred, self.new"
      ],
      "execution_count": 0,
      "outputs": []
    },
    {
      "metadata": {
        "id": "mD0UlC2ZMkrG",
        "colab_type": "text"
      },
      "cell_type": "markdown",
      "source": [
        "## Model"
      ]
    },
    {
      "metadata": {
        "id": "4iiPdzcIMkrG",
        "colab_type": "code",
        "colab": {}
      },
      "cell_type": "code",
      "source": [
        "class Net(nn.Module):\n",
        "    def __init__(self, input_size, hidden_size, output_size, n_layers=1):\n",
        "        super(Net, self).__init__()\n",
        "        self.input_size = input_size\n",
        "        self.hidden_size = hidden_size\n",
        "        self.output_size = input_size\n",
        "        self.n_layers = n_layers\n",
        "        \n",
        "        self.encoder = nn.Embedding(self.input_size, self.hidden_size)\n",
        "        self.lstm = nn.LSTM(self.hidden_size, self.hidden_size, self.n_layers)\n",
        "        self.decoder = nn.Linear(self.hidden_size, self.output_size)\n",
        "        \n",
        "    def forward(self, x, hidden):\n",
        "        batch_size = x.size(0)\n",
        "        x = self.encoder(x)\n",
        "        out, hidden = self.lstm(x.view(x.size(1), batch_size, -1), hidden)\n",
        "        out = self.decoder(out)#.view(batch_size, -1))\n",
        "        return out, hidden\n",
        "      \n",
        "    def init_hidden(self, batch_size):\n",
        "        return torch.zeros(self.n_layers, batch_size, self.hidden_size, device = device, requires_grad=False),\\\n",
        "            torch.zeros(self.n_layers, batch_size, self.hidden_size, device = device, requires_grad=False)"
      ],
      "execution_count": 0,
      "outputs": []
    },
    {
      "metadata": {
        "id": "VRZ4GqMlMkrI",
        "colab_type": "text"
      },
      "cell_type": "markdown",
      "source": [
        "## Parameters"
      ]
    },
    {
      "metadata": {
        "scrolled": true,
        "id": "-iii9OXxMkrI",
        "colab_type": "code",
        "colab": {}
      },
      "cell_type": "code",
      "source": [
        "batch_size = 256\n",
        "length = 50\n",
        "lr = 0.003\n",
        "input_size = len(word_2_idx)\n",
        "hidden_size = 256\n",
        "n_layers = 3\n",
        "n_batchs = 7500\n",
        "print_every = 50"
      ],
      "execution_count": 0,
      "outputs": []
    },
    {
      "metadata": {
        "id": "fwF3nqARMkrK",
        "colab_type": "code",
        "colab": {}
      },
      "cell_type": "code",
      "source": [
        "model = Net(input_size, hidden_size, input_size, n_layers).to(device=device)\n",
        "optimizer = torch.optim.Adam(model.parameters(), lr=lr)\n",
        "criterion = nn.CrossEntropyLoss()\n",
        "loss = torch.tensor(0)"
      ],
      "execution_count": 0,
      "outputs": []
    },
    {
      "metadata": {
        "id": "9VCgyQ9CsmMQ",
        "colab_type": "code",
        "colab": {}
      },
      "cell_type": "code",
      "source": [
        "train_batcher = Batch(word_2_idx, idx_2_word, all_texts, batch_size, length)\n",
        "val_batcher = Batch(word_2_idx, idx_2_word, val_texts, batch_size, length)"
      ],
      "execution_count": 0,
      "outputs": []
    },
    {
      "metadata": {
        "id": "zYwdWaItsnWl",
        "colab_type": "code",
        "colab": {}
      },
      "cell_type": "code",
      "source": [
        "tr_n_batches = sum([len(x) for x in all_texts]) // (batch_size * length)\n",
        "val_n_batches = sum([len(x) for x in val_texts]) // (batch_size * length)"
      ],
      "execution_count": 0,
      "outputs": []
    },
    {
      "metadata": {
        "id": "jV0sbrx9srdy",
        "colab_type": "code",
        "outputId": "6a19b23d-9995-4864-d03a-d290d57c17d3",
        "colab": {
          "base_uri": "https://localhost:8080/",
          "height": 34
        }
      },
      "cell_type": "code",
      "source": [
        "tr_n_batches, val_n_batches"
      ],
      "execution_count": 0,
      "outputs": [
        {
          "output_type": "execute_result",
          "data": {
            "text/plain": [
              "(107, 108)"
            ]
          },
          "metadata": {
            "tags": []
          },
          "execution_count": 195
        }
      ]
    },
    {
      "metadata": {
        "id": "nE3ObEcaMkrK",
        "colab_type": "text"
      },
      "cell_type": "markdown",
      "source": [
        "## Train"
      ]
    },
    {
      "metadata": {
        "id": "gyTnW8dtMkrL",
        "colab_type": "code",
        "colab": {}
      },
      "cell_type": "code",
      "source": [
        "def timeSince(since):\n",
        "    now = time.clock()\n",
        "    s = now - since\n",
        "    m = math.floor(s / 60)\n",
        "    s -= m * 60\n",
        "    return '%dm %ds' % (m, s)"
      ],
      "execution_count": 0,
      "outputs": []
    },
    {
      "metadata": {
        "id": "pu1FPhMZMkrM",
        "colab_type": "code",
        "colab": {}
      },
      "cell_type": "code",
      "source": [
        "def run_batch(hidden, inp, target, new):\n",
        "   \n",
        "    model.zero_grad()\n",
        "    loss = 0\n",
        "    \n",
        "    for i in range(batch_size):# if text changed, hidden state related to it is setting to zeros  \n",
        "        if new[i]:\n",
        "            hidden[0][:,i,:] = 0\n",
        "            hidden[1][:,i,:] = 0\n",
        "    \n",
        "    #for i in range(inp.shape[1]-1):\n",
        "    #    output, hidden = model(inp[:,i],hidden)\n",
        "    #    loss += criterion(output.view(batch_size,-1), target[:,i])\n",
        "    output, hidden = model(inp, hidden)\n",
        "    loss = criterion(output.view(batch_size * inp.size(1),  output.size(2)), target.view(batch_size * inp.size(1)))  \n",
        "    \n",
        "    if model.training:\n",
        "        optimizer.zero_grad()\n",
        "        loss.backward(retain_graph=True)\n",
        "        optimizer.step()\n",
        "    \n",
        "    return (hidden[0].data, hidden[1].data), output, loss.item() #/ length"
      ],
      "execution_count": 0,
      "outputs": []
    },
    {
      "metadata": {
        "id": "ytFDzmABsJN_",
        "colab_type": "code",
        "outputId": "118960a5-db56-47cd-b0cb-7adbef51f3f5",
        "colab": {
          "base_uri": "https://localhost:8080/",
          "height": 2077
        }
      },
      "cell_type": "code",
      "source": [
        "start_time = time.clock()\n",
        "tr_losses = []\n",
        "val_losses = []\n",
        "n_epochs = 20\n",
        "loss_ep = []\n",
        "tr_perp_ep = []\n",
        "val_perp_ep = []\n",
        "hidden = model.init_hidden(batch_size)\n",
        "for epoch in range(n_epochs):\n",
        "    model.train()\n",
        "    for bat in range(1, tr_n_batches + 1):\n",
        "        hidden, out, loss = run_batch(hidden, *train_batcher.make_batch())\n",
        "        tr_losses.append(loss)\n",
        "        #perplexity.append(np.exp(losses[-1]))\n",
        "        if bat % print_every == 0:\n",
        "            print('bat {},   \\tloss {}'.format(bat, tr_losses[-1]))\n",
        "            print('time passed %s:' %(timeSince(start_time)))\n",
        "    model.eval()\n",
        "    for bat in range(1, val_n_batches + 1):\n",
        "        hidden, out, loss = run_batch(hidden, *val_batcher.make_batch())\n",
        "        val_losses.append(loss)\n",
        "    loss_ep.append(sum(tr_losses[-tr_n_batches:]) / tr_n_batches)\n",
        "    tr_losses = []\n",
        "    tr_perp_ep.append(math.exp(loss_ep[-1]))\n",
        "    val_perp_ep.append(math.exp(sum(val_losses[-val_n_batches:]) / val_n_batches))\n",
        "    val_losses = []\n",
        "    print('epoch {},   \\tloss {} \\ttrain perplexity {}, validation perplexity {}'.format(epoch, loss_ep[-1], tr_perp_ep[-1], val_perp_ep[-1]))\n",
        "    print('time passed %s:' %(timeSince(start_time)))"
      ],
      "execution_count": 0,
      "outputs": [
        {
          "output_type": "stream",
          "text": [
            "bat 50,   \tloss 4.501490592956543\n",
            "time passed 0m 4s:\n",
            "bat 100,   \tloss 4.129063129425049\n",
            "time passed 0m 9s:\n",
            "epoch 0,   \tloss 4.47627026121193 \ttrain perplexity 87.90619334635645, validation perplexity 60.65789259095709\n",
            "time passed 0m 13s:\n",
            "bat 50,   \tloss 3.8759350776672363\n",
            "time passed 0m 17s:\n",
            "bat 100,   \tloss 3.7449371814727783\n",
            "time passed 0m 22s:\n",
            "epoch 1,   \tloss 3.8839872796958854 \ttrain perplexity 48.61768140676685, validation perplexity 42.07910824941413\n",
            "time passed 0m 26s:\n",
            "bat 50,   \tloss 3.6359119415283203\n",
            "time passed 0m 30s:\n",
            "bat 100,   \tloss 3.5514543056488037\n",
            "time passed 0m 35s:\n",
            "epoch 2,   \tloss 3.6461395348343895 \ttrain perplexity 38.32642227007242, validation perplexity 35.864803080792775\n",
            "time passed 0m 39s:\n",
            "bat 50,   \tloss 3.5490384101867676\n",
            "time passed 0m 43s:\n",
            "bat 100,   \tloss 3.507286787033081\n",
            "time passed 0m 48s:\n",
            "epoch 3,   \tloss 3.529345773090826 \ttrain perplexity 34.10165009804902, validation perplexity 33.21256154893918\n",
            "time passed 0m 52s:\n",
            "bat 50,   \tloss 3.4491770267486572\n",
            "time passed 0m 56s:\n",
            "bat 100,   \tloss 3.441882610321045\n",
            "time passed 1m 1s:\n",
            "epoch 4,   \tloss 3.4727923647265566 \ttrain perplexity 32.226605357405404, validation perplexity 32.11469346259421\n",
            "time passed 1m 5s:\n",
            "bat 50,   \tloss 3.4460465908050537\n",
            "time passed 1m 9s:\n",
            "bat 100,   \tloss 3.423804998397827\n",
            "time passed 1m 14s:\n",
            "epoch 5,   \tloss 3.4425712835008855 \ttrain perplexity 31.267251863979425, validation perplexity 31.363782681879723\n",
            "time passed 1m 18s:\n",
            "bat 50,   \tloss 3.4272749423980713\n",
            "time passed 1m 22s:\n",
            "bat 100,   \tloss 3.4406607151031494\n",
            "time passed 1m 27s:\n",
            "epoch 6,   \tloss 3.422631727200802 \ttrain perplexity 30.649971336702936, validation perplexity 30.777088409873926\n",
            "time passed 1m 31s:\n",
            "bat 50,   \tloss 3.443756103515625\n",
            "time passed 1m 35s:\n",
            "bat 100,   \tloss 3.398352861404419\n",
            "time passed 1m 40s:\n",
            "epoch 7,   \tloss 3.397334118869817 \ttrain perplexity 29.884325700206997, validation perplexity 30.646766482773984\n",
            "time passed 1m 44s:\n",
            "bat 50,   \tloss 3.3934288024902344\n",
            "time passed 1m 48s:\n",
            "bat 100,   \tloss 3.4395720958709717\n",
            "time passed 1m 53s:\n",
            "epoch 8,   \tloss 3.3933790443099547 \ttrain perplexity 29.766364390547484, validation perplexity 30.264267128042725\n",
            "time passed 1m 57s:\n",
            "bat 50,   \tloss 3.3670573234558105\n",
            "time passed 2m 1s:\n",
            "bat 100,   \tloss 3.3990731239318848\n",
            "time passed 2m 6s:\n",
            "epoch 9,   \tloss 3.3813698737420768 \ttrain perplexity 29.411032931930038, validation perplexity 29.931872505323796\n",
            "time passed 2m 9s:\n",
            "bat 50,   \tloss 3.3798420429229736\n",
            "time passed 2m 14s:\n",
            "bat 100,   \tloss 3.389810562133789\n",
            "time passed 2m 18s:\n",
            "epoch 10,   \tloss 3.381473249364122 \ttrain perplexity 29.414073472910566, validation perplexity 29.944845964162216\n",
            "time passed 2m 22s:\n",
            "bat 50,   \tloss 3.37860107421875\n",
            "time passed 2m 27s:\n",
            "bat 100,   \tloss 3.368192672729492\n",
            "time passed 2m 31s:\n",
            "epoch 11,   \tloss 3.37276608698836 \ttrain perplexity 29.159072139127254, validation perplexity 29.94027239908463\n",
            "time passed 2m 35s:\n",
            "bat 50,   \tloss 3.391740083694458\n",
            "time passed 2m 40s:\n",
            "bat 100,   \tloss 3.379920721054077\n",
            "time passed 2m 44s:\n",
            "epoch 12,   \tloss 3.3741833316945584 \ttrain perplexity 29.20042697779513, validation perplexity 29.74607290705761\n",
            "time passed 2m 48s:\n",
            "bat 50,   \tloss 3.3272206783294678\n",
            "time passed 2m 53s:\n",
            "bat 100,   \tloss 3.342806100845337\n",
            "time passed 2m 57s:\n",
            "epoch 13,   \tloss 3.3666933073061647 \ttrain perplexity 28.982532105200878, validation perplexity 29.754641625171587\n",
            "time passed 3m 1s:\n",
            "bat 50,   \tloss 3.353203296661377\n",
            "time passed 3m 6s:\n",
            "bat 100,   \tloss 3.364539861679077\n",
            "time passed 3m 10s:\n",
            "epoch 14,   \tloss 3.3642964251687593 \ttrain perplexity 28.913147578185946, validation perplexity 29.836831819700357\n",
            "time passed 3m 14s:\n",
            "bat 50,   \tloss 3.3441295623779297\n",
            "time passed 3m 19s:\n",
            "bat 100,   \tloss 3.312337875366211\n",
            "time passed 3m 23s:\n",
            "epoch 15,   \tloss 3.3537739972087826 \ttrain perplexity 28.61050611957556, validation perplexity 29.606640193355503\n",
            "time passed 3m 27s:\n",
            "bat 50,   \tloss 3.3527865409851074\n",
            "time passed 3m 31s:\n",
            "bat 100,   \tloss 3.3712542057037354\n",
            "time passed 3m 36s:\n",
            "epoch 16,   \tloss 3.3587263454900724 \ttrain perplexity 28.752546737384097, validation perplexity 29.594136779884977\n",
            "time passed 3m 40s:\n",
            "bat 50,   \tloss 3.3277530670166016\n",
            "time passed 3m 44s:\n",
            "bat 100,   \tloss 3.3654704093933105\n",
            "time passed 3m 49s:\n",
            "epoch 17,   \tloss 3.3554626892660266 \ttrain perplexity 28.65886127100237, validation perplexity 29.603416666401273\n",
            "time passed 3m 53s:\n",
            "bat 50,   \tloss 3.3573758602142334\n",
            "time passed 3m 57s:\n",
            "bat 100,   \tloss 3.3439791202545166\n",
            "time passed 4m 2s:\n",
            "epoch 18,   \tloss 3.3509975103574376 \ttrain perplexity 28.531179601002, validation perplexity 29.465048514166227\n",
            "time passed 4m 6s:\n",
            "bat 50,   \tloss 3.3561768531799316\n",
            "time passed 4m 10s:\n",
            "bat 100,   \tloss 3.3631038665771484\n",
            "time passed 4m 15s:\n",
            "epoch 19,   \tloss 3.3513007431386788 \ttrain perplexity 28.539832501799786, validation perplexity 29.486360942183065\n",
            "time passed 4m 19s:\n"
          ],
          "name": "stdout"
        }
      ]
    },
    {
      "metadata": {
        "id": "sjtGLYiWJD0T",
        "colab_type": "code",
        "outputId": "a62a2ddd-07e6-46de-d537-d768ba0a0bcc",
        "colab": {
          "base_uri": "https://localhost:8080/",
          "height": 129
        }
      },
      "cell_type": "code",
      "source": [
        "torch.save(model, 'gdrive/My Drive/Colab Notebooks/subword_lang_33.dms')"
      ],
      "execution_count": 0,
      "outputs": [
        {
          "output_type": "stream",
          "text": [
            "/usr/local/lib/python3.6/dist-packages/torch/serialization.py:251: UserWarning: Couldn't retrieve source code for container of type Net. It won't be checked for correctness upon loading.\n",
            "  \"type \" + obj.__name__ + \". It won't be checked \"\n"
          ],
          "name": "stderr"
        }
      ]
    },
    {
      "metadata": {
        "id": "eVK0k4ZbJOMD",
        "colab_type": "code",
        "colab": {}
      },
      "cell_type": "code",
      "source": [
        "torch.save(optimizer, 'gdrive/My Drive/Colab Notebooks/adam_subword_lang_33.dms')"
      ],
      "execution_count": 0,
      "outputs": []
    },
    {
      "metadata": {
        "id": "Xr4q4dPwMkrO",
        "colab_type": "code",
        "outputId": "1b0922a0-d5dc-4ffd-e0bc-0e5eb594be8f",
        "colab": {
          "base_uri": "https://localhost:8080/",
          "height": 286
        }
      },
      "cell_type": "code",
      "source": [
        "plt.plot(range(len(loss_ep)), loss_ep)\n",
        "plt.xlabel(\"n of epochs\", fontsize=12)\n",
        "plt.ylabel(\"loss\", fontsize=12)\n",
        "plt.show()"
      ],
      "execution_count": 0,
      "outputs": [
        {
          "output_type": "display_data",
          "data": {
            "image/png": "[encoded data removed]",
            "text/plain": [
              "<Figure size 432x288 with 1 Axes>"
            ]
          },
          "metadata": {
            "tags": []
          }
        }
      ]
    },
    {
      "metadata": {
        "id": "CsilqQZhPEwI",
        "colab_type": "code",
        "outputId": "653b2db1-db20-4bd7-91ae-a1e4ee1247d8",
        "colab": {
          "base_uri": "https://localhost:8080/",
          "height": 286
        }
      },
      "cell_type": "code",
      "source": [
        "plt.plot(range(len(tr_perp_ep)), tr_perp_ep, label='train perplexity')\n",
        "plt.plot(range(len(val_perp_ep)), val_perp_ep, label='validation perplexity')\n",
        "plt.xlabel(\"n of epochs\", fontsize=12)\n",
        "plt.ylabel(\"perplexity\", fontsize=12)\n",
        "plt.legend(fontsize=12)\n",
        "plt.show()"
      ],
      "execution_count": 0,
      "outputs": [
        {
          "output_type": "display_data",
          "data": {
            "image/png": "[encoded data removed]",
            "text/plain": [
              "<Figure size 432x288 with 1 Axes>"
            ]
          },
          "metadata": {
            "tags": []
          }
        }
      ]
    },
    {
      "metadata": {
        "id": "iFMUSqAjTwe8",
        "colab_type": "code",
        "colab": {}
      },
      "cell_type": "code",
      "source": [
        ""
      ],
      "execution_count": 0,
      "outputs": []
    }
  ]
}