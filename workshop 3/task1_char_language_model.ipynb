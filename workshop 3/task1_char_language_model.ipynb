{
  "nbformat": 4,
  "nbformat_minor": 0,
  "metadata": {
    "colab": {
      "name": "task1_char_language_model.ipynb",
      "version": "0.3.2",
      "provenance": [],
      "collapsed_sections": [],
      "include_colab_link": true
    },
    "kernelspec": {
      "name": "python3",
      "display_name": "Python 3"
    },
    "accelerator": "GPU"
  },
  "cells": [
    {
      "cell_type": "markdown",
      "metadata": {
        "id": "view-in-github",
        "colab_type": "text"
      },
      "source": [
        "<a href=\"https://colab.research.google.com/github/sverdoot/DL-in-NLP-course/blob/master/workshop%203/task1_char_language_model.ipynb\" target=\"_parent\"><img src=\"https://colab.research.google.com/assets/colab-badge.svg\" alt=\"Open In Colab\"/></a>"
      ]
    },
    {
      "metadata": {
        "id": "ZZb_G5VPbDj3",
        "colab_type": "text"
      },
      "cell_type": "markdown",
      "source": [
        "## Посимвольная языковая модель.\n",
        "\n",
        "В первом задании Вам нужно написать и обучить посимвольную нейронную языковую модель для вычисления вероятностей буквенных последовательностей (то есть слов). Такие модели используются в задачах словоизменения и распознавания/порождения звучащей речи. Для обучения модели используйте данные для русского языка из [репозитория](https://github.com/sigmorphon/conll2018/tree/master/task1/surprise).\n",
        "\n",
        "**В процессе написания Вам нужно решить следующие проблемы:**\n",
        "    \n",
        "* как будет выглядеть обучающая выборка; что будет являться признаками, и что - метками классов.\n",
        "* как сделать так, чтобы модель при предсказании символа учитывала все предыдущие символы слова.\n",
        "* какие специальные символы нужно использовать.\n",
        "* как передавать в модель текущее состояние рекуррентной сети\n",
        "\n",
        "**Результаты:**\n",
        "\n",
        "* предобработчик данных,\n",
        "* генератор обучающих данных (батчей),\n",
        "* обученная модель\n",
        "* перплексия модели на настроечной выборке\n",
        "* посимвольные вероятности слов в контрольной выборке\n",
        "\n",
        "**Дополнительно:**\n",
        "\n",
        "* дополнительный вход модели (часть речи слова, другие морфологические признаки), влияет ли его добавление на перплексию\n",
        "* сравнение различных архитектур нейронной сети (FC, RNN, LSTM, QRNN, ...)"
      ]
    },
    {
      "metadata": {
        "id": "gYWr3Pl8bFjM",
        "colab_type": "code",
        "outputId": "0aa58dc8-4c7d-49d0-f7c1-f4cec29699ef",
        "colab": {
          "base_uri": "https://localhost:8080/",
          "height": 34
        }
      },
      "cell_type": "code",
      "source": [
        "from google.colab import drive\n",
        "drive.mount('/content/drive')"
      ],
      "execution_count": 0,
      "outputs": [
        {
          "output_type": "stream",
          "text": [
            "Drive already mounted at /content/drive; to attempt to forcibly remount, call drive.mount(\"/content/drive\", force_remount=True).\n"
          ],
          "name": "stdout"
        }
      ]
    },
    {
      "metadata": {
        "id": "pBcl90xEbDj5",
        "colab_type": "code",
        "outputId": "b38e9a40-25f1-4d5c-d758-eaa77ce7c37f",
        "colab": {
          "base_uri": "https://localhost:8080/",
          "height": 51
        }
      },
      "cell_type": "code",
      "source": [
        "# it is better to do all imports at the first cell\n",
        "%matplotlib inline\n",
        "import numpy as np\n",
        "import torch\n",
        "import torch.nn as nn\n",
        "import torch.nn.functional as F\n",
        "import math, copy, time\n",
        "import matplotlib.pyplot as plt\n",
        "from torch.nn.utils.rnn import pack_padded_sequence, pad_packed_sequence\n",
        "from IPython.core.debugger import set_trace\n",
        "from torch import optim\n",
        "\n",
        "USE_CUDA = torch.cuda.is_available()\n",
        "device=torch.device('cuda:0') # or set to 'cpu'\n",
        "print(\"CUDA:\", USE_CUDA)\n",
        "print(device)\n",
        "\n",
        "seed = 42\n",
        "np.random.seed(seed)\n",
        "torch.manual_seed(seed)\n",
        "torch.cuda.manual_seed(seed)\n",
        "\n",
        "import re\n",
        "from matplotlib import pyplot as plt"
      ],
      "execution_count": 0,
      "outputs": [
        {
          "output_type": "stream",
          "text": [
            "CUDA: True\n",
            "cuda:0\n"
          ],
          "name": "stdout"
        }
      ]
    },
    {
      "metadata": {
        "id": "w8jK3k5WbDj9",
        "colab_type": "code",
        "colab": {}
      },
      "cell_type": "code",
      "source": [
        "def read_dataset(infile):\n",
        "    words, tags = [], []\n",
        "    with open(infile, \"r\", encoding=\"utf8\") as f:\n",
        "        for line in f:\n",
        "            line = line.strip()\n",
        "            splitted = line.split(\"\\t\")\n",
        "            if len(splitted) != 3:\n",
        "                continue\n",
        "            words.append(splitted[0].lower())\n",
        "            tags.append(splitted[2])\n",
        "    return words, tags\n",
        "\n",
        "train_words, train_tags = read_dataset(\"/content/drive/My Drive/Colab Notebooks/DL in NLP/Work3/russian-train-high\")\n",
        "dev_words, dev_tags = read_dataset(\"/content/drive/My Drive/Colab Notebooks/DL in NLP/Work3/russian-dev\")\n",
        "test_words, test_tags = read_dataset(\"/content/drive/My Drive/Colab Notebooks/DL in NLP/Work3/russian-covered-test\")"
      ],
      "execution_count": 0,
      "outputs": []
    },
    {
      "metadata": {
        "id": "yTyGC-WzhAlp",
        "colab_type": "code",
        "colab": {}
      },
      "cell_type": "code",
      "source": [
        "def make_data(words):\n",
        "    data = [re.findall(r'^(\\w+)', re.sub(r'<.*>', \"\", x))[0] for x in train_words]\n",
        "    data = list(filter(lambda x: re.match(r'^[а-я]', x), data))\n",
        "    return data\n",
        "train_data = make_data(train_words)\n",
        "eval_data = make_data(dev_words)\n",
        "test_data = make_data(test_words)"
      ],
      "execution_count": 0,
      "outputs": []
    },
    {
      "metadata": {
        "id": "UWP4f1rpXB3e",
        "colab_type": "code",
        "outputId": "44787282-c83f-4ab8-b37c-cb5fba14e443",
        "colab": {
          "base_uri": "https://localhost:8080/",
          "height": 34
        }
      },
      "cell_type": "code",
      "source": [
        "max_len = np.max([len(x) for x in train_data])\n",
        "max_len"
      ],
      "execution_count": 0,
      "outputs": [
        {
          "output_type": "execute_result",
          "data": {
            "text/plain": [
              "23"
            ]
          },
          "metadata": {
            "tags": []
          },
          "execution_count": 35
        }
      ]
    },
    {
      "metadata": {
        "id": "QaKXq6ULk_KR",
        "colab_type": "code",
        "outputId": "97b898ff-319d-405c-85f8-8e16e25dc0a4",
        "colab": {
          "base_uri": "https://localhost:8080/",
          "height": 281
        }
      },
      "cell_type": "code",
      "source": [
        "lens = [len(x) for x in train_data]\n",
        "plt.hist(lens)\n",
        "plt.title('Distribution of words\\' lengths')\n",
        "plt.show()"
      ],
      "execution_count": 0,
      "outputs": [
        {
          "output_type": "display_data",
          "data": {
            "image/png": "[encoded data removed]",
            "text/plain": [
              "<Figure size 432x288 with 1 Axes>"
            ]
          },
          "metadata": {
            "tags": []
          }
        }
      ]
    },
    {
      "metadata": {
        "id": "wqXWrXzzmvpm",
        "colab_type": "code",
        "colab": {}
      },
      "cell_type": "code",
      "source": [
        "MAX_LEN = max(lens)"
      ],
      "execution_count": 0,
      "outputs": []
    },
    {
      "metadata": {
        "id": "tqV-iBu5bDkA",
        "colab_type": "text"
      },
      "cell_type": "markdown",
      "source": [
        "Подумайте, какие вспомогательные токены могут быть вам полезны. Выдайте им индексы от `0` до `len(AUXILIARY) - 1`"
      ]
    },
    {
      "metadata": {
        "id": "WGF5Q1WovyfJ",
        "colab_type": "text"
      },
      "cell_type": "markdown",
      "source": [
        "## Vocabulary"
      ]
    },
    {
      "metadata": {
        "id": "5reE57OqbDkB",
        "colab_type": "code",
        "colab": {}
      },
      "cell_type": "code",
      "source": [
        "#START_TOKEN = '<START>'\n",
        "EOS_TOKEN = '<EOS>'\n",
        "UNK_TOKEN = '<UNK>'\n",
        "PAD_TOKEN = '<PAD>'\n",
        "AUXILIARY = [PAD_TOKEN, EOS_TOKEN]"
      ],
      "execution_count": 0,
      "outputs": []
    },
    {
      "metadata": {
        "id": "JBgL-twdbDkE",
        "colab_type": "code",
        "colab": {}
      },
      "cell_type": "code",
      "source": [
        "class Vocabulary:\n",
        "    def fit(self, data):\n",
        "        \"\"\"Extract unique symbols from the data, make itos (item to string) and stoi (string to index) objects\"\"\"\n",
        "        symbols = set(x for elem in data for x in elem)\n",
        "        self._symbols = AUXILIARY + sorted(symbols)\n",
        "        \n",
        "        # Запомните следующую строчку кода - она нужна примерно всегда\n",
        "        self._symbol_codes = {s: i for i, s in enumerate(self._symbols)}\n",
        "        self._codes_symbol = {i: s for i, s in enumerate(self._symbols)}\n",
        "        print(self._symbols)\n",
        "        print(self._symbol_codes)\n",
        "        return self\n",
        "\n",
        "    def __len__(self):\n",
        "        return len(self._symbols)\n",
        "\n",
        "    def transform(self, data):\n",
        "        \"\"\"Transform data to indices\n",
        "        Input:\n",
        "            - data, list of strings\n",
        "        Output:\n",
        "            - list of list of char indices\n",
        "\n",
        "        >>> self.transform(['word1', 'token2'])\n",
        "        >>> [[24, 2, 19, 13, 3], [8, 2, 9, 1, 7, 4]]\n",
        "        \"\"\"\n",
        "        \n",
        "        data_ind = [[self._symbol_codes[x] for x in word] for word in data]\n",
        "        return data_ind\n",
        "    \n",
        "    def tok2idx(self, tok):\n",
        "        return self._symbol_codes[tok]\n",
        "    \n",
        "    def idx2tok(self, idx):\n",
        "        return self._codes_symbol[idx]"
      ],
      "execution_count": 0,
      "outputs": []
    },
    {
      "metadata": {
        "id": "jM2ny9c-fqy8",
        "colab_type": "code",
        "outputId": "7fa97eed-e1e1-48a4-c3b1-847fa305b9c0",
        "colab": {
          "base_uri": "https://localhost:8080/",
          "height": 88
        }
      },
      "cell_type": "code",
      "source": [
        "voc = Vocabulary()\n",
        "voc.fit(train_data)\n",
        "voc.__len__()\n"
      ],
      "execution_count": 0,
      "outputs": [
        {
          "output_type": "stream",
          "text": [
            "['<PAD>', '<EOS>', 'а', 'б', 'в', 'г', 'д', 'е', 'ж', 'з', 'и', 'й', 'к', 'л', 'м', 'н', 'о', 'п', 'р', 'с', 'т', 'у', 'ф', 'х', 'ц', 'ч', 'ш', 'щ', 'ъ', 'ы', 'ь', 'э', 'ю', 'я', 'ё']\n",
            "{'<PAD>': 0, '<EOS>': 1, 'а': 2, 'б': 3, 'в': 4, 'г': 5, 'д': 6, 'е': 7, 'ж': 8, 'з': 9, 'и': 10, 'й': 11, 'к': 12, 'л': 13, 'м': 14, 'н': 15, 'о': 16, 'п': 17, 'р': 18, 'с': 19, 'т': 20, 'у': 21, 'ф': 22, 'х': 23, 'ц': 24, 'ч': 25, 'ш': 26, 'щ': 27, 'ъ': 28, 'ы': 29, 'ь': 30, 'э': 31, 'ю': 32, 'я': 33, 'ё': 34}\n"
          ],
          "name": "stdout"
        },
        {
          "output_type": "execute_result",
          "data": {
            "text/plain": [
              "35"
            ]
          },
          "metadata": {
            "tags": []
          },
          "execution_count": 40
        }
      ]
    },
    {
      "metadata": {
        "id": "ATiWtXpL6uqt",
        "colab_type": "code",
        "colab": {}
      },
      "cell_type": "code",
      "source": [
        "PAD_IDX = voc.tok2idx(PAD_TOKEN)\n",
        "EOS_IDX = voc.tok2idx(EOS_TOKEN)\n",
        "#SOS_IDX = voc.tok2idx(START_TOKEN)"
      ],
      "execution_count": 0,
      "outputs": []
    },
    {
      "metadata": {
        "id": "L0A05pSkv2LW",
        "colab_type": "text"
      },
      "cell_type": "markdown",
      "source": [
        "## Batcher"
      ]
    },
    {
      "metadata": {
        "id": "AesmD_m3bDkS",
        "colab_type": "code",
        "colab": {}
      },
      "cell_type": "code",
      "source": [
        "class Batcher:\n",
        "  \n",
        "  def __init__(self, batch_size, data, data_idx=0):\n",
        "    self.batch_size = batch_size\n",
        "    self.data = data\n",
        "    self.data_idx = data_idx\n",
        "    \n",
        "  def __iter__(self):\n",
        "  \n",
        "    return self\n",
        "\n",
        "  def __next__(self, data_idx_=None):\n",
        "    batch_size = self.batch_size\n",
        "    data = self.data\n",
        "    global data_idx\n",
        "    batch = []\n",
        "    target = []\n",
        "    lengths =[]\n",
        "    whole = []\n",
        "\n",
        "    n_timestep = np.max([len(data[idx % len(data)]) for idx in range(self.data_idx, self.data_idx + batch_size)])\n",
        "    \n",
        "    for i in range(batch_size):\n",
        "      word = data[self.data_idx]\n",
        "      x = voc.transform([word])[0]\n",
        "      y = x[1:] + [EOS_IDX] + [PAD_IDX] * (n_timestep - len(word))\n",
        "      #y = x[1:] + [PAD_IDX] * (n_timestep - len(word) + 1)\n",
        "      x.append(EOS_IDX)\n",
        "      x = x + [PAD_IDX] * (n_timestep - len(word))\n",
        "      \n",
        "      whole.append((x,\n",
        "                    y,\n",
        "                    len(word)))\n",
        "      self.data_idx = (self.data_idx + 1) % len(data)\n",
        "      \n",
        "    whole = sorted(whole, key=lambda x: x[2], reverse=True)\n",
        "    batch = [x[0] for x in whole]\n",
        "    target = [x[1] for x in whole]\n",
        "    lengths = [x[2] for x in whole]\n",
        "    return (batch, target, lengths)"
      ],
      "execution_count": 0,
      "outputs": []
    },
    {
      "metadata": {
        "colab_type": "code",
        "outputId": "bfcf3443-e683-4ba8-df1a-b098a555a52c",
        "id": "9XjJLDpNt8DZ",
        "colab": {
          "base_uri": "https://localhost:8080/",
          "height": 374
        }
      },
      "cell_type": "code",
      "source": [
        "ex_batcher = Batcher(10, train_data, np.random.randint(len(train_data)))\n",
        "build_batch = iter(ex_batcher)\n",
        "next(build_batch)"
      ],
      "execution_count": 0,
      "outputs": [
        {
          "output_type": "execute_result",
          "data": {
            "text/plain": [
              "([[14, 2, 13, 16, 25, 10, 19, 13, 7, 15, 15, 29, 11, 1],\n",
              "  [10, 14, 17, 16, 15, 10, 18, 16, 4, 2, 20, 30, 1, 0],\n",
              "  [13, 2, 19, 12, 2, 20, 7, 13, 30, 15, 16, 7, 1, 0],\n",
              "  [4, 2, 18, 30, 10, 18, 16, 4, 2, 20, 30, 1, 0, 0],\n",
              "  [17, 16, 13, 15, 16, 5, 13, 2, 19, 10, 7, 1, 0, 0],\n",
              "  [17, 18, 16, 19, 13, 2, 4, 10, 20, 30, 1, 0, 0, 0],\n",
              "  [12, 18, 29, 14, 25, 2, 15, 10, 15, 1, 0, 0, 0, 0],\n",
              "  [17, 16, 20, 18, 33, 19, 15, 29, 11, 1, 0, 0, 0, 0],\n",
              "  [13, 32, 3, 16, 4, 15, 29, 11, 1, 0, 0, 0, 0, 0],\n",
              "  [24, 4, 7, 20, 16, 25, 7, 12, 1, 0, 0, 0, 0, 0]],\n",
              " [[2, 13, 16, 25, 10, 19, 13, 7, 15, 15, 29, 11, 1],\n",
              "  [14, 17, 16, 15, 10, 18, 16, 4, 2, 20, 30, 1, 0],\n",
              "  [2, 19, 12, 2, 20, 7, 13, 30, 15, 16, 7, 1, 0],\n",
              "  [2, 18, 30, 10, 18, 16, 4, 2, 20, 30, 1, 0, 0],\n",
              "  [16, 13, 15, 16, 5, 13, 2, 19, 10, 7, 1, 0, 0],\n",
              "  [18, 16, 19, 13, 2, 4, 10, 20, 30, 1, 0, 0, 0],\n",
              "  [18, 29, 14, 25, 2, 15, 10, 15, 1, 0, 0, 0, 0],\n",
              "  [16, 20, 18, 33, 19, 15, 29, 11, 1, 0, 0, 0, 0],\n",
              "  [32, 3, 16, 4, 15, 29, 11, 1, 0, 0, 0, 0, 0],\n",
              "  [4, 7, 20, 16, 25, 7, 12, 1, 0, 0, 0, 0, 0]],\n",
              " [13, 12, 12, 11, 11, 10, 9, 9, 8, 8])"
            ]
          },
          "metadata": {
            "tags": []
          },
          "execution_count": 43
        }
      ]
    },
    {
      "metadata": {
        "id": "WJ1u8fnVwAvQ",
        "colab_type": "text"
      },
      "cell_type": "markdown",
      "source": [
        "## Model"
      ]
    },
    {
      "metadata": {
        "id": "POVpzcC-Ne6u",
        "colab_type": "code",
        "colab": {}
      },
      "cell_type": "code",
      "source": [
        "class Model(nn.Module):\n",
        "\n",
        "    def __init__(self, embedding_dim, hidden_dim, vocab_size, num_layers=1, dropout=0.):\n",
        "        super(Model, self).__init__()\n",
        "        self.hidden_dim = hidden_dim\n",
        "        self.num_layers = num_layers\n",
        "        self.letter_in_embeddings = nn.Embedding(vocab_size, embedding_dim, padding_idx=PAD_IDX)\n",
        "        self.lstm = nn.LSTM(embedding_dim, hidden_dim, num_layers, bidirectional=False, dropout=dropout)\n",
        "\n",
        "        # The linear layer that maps from hidden state space to tag space\n",
        "        self.letter_out_embeddings = nn.Linear(hidden_dim, vocab_size)\n",
        "\n",
        "    def forward(self, word, lens):\n",
        "        embeds = self.letter_in_embeddings(word)\n",
        "        packed = pack_padded_sequence(embeds, lens, batch_first=True)\n",
        "        output, final = self.lstm(packed)\n",
        "        output, _ = pad_packed_sequence(output, batch_first=True)\n",
        "        outs = self.letter_out_embeddings(output)\n",
        "        tag_scores = F.log_softmax(outs, dim=-1)\n",
        "        return tag_scores\n",
        "    \n",
        "    def init_hidden(self, batch_size):\n",
        "        return torch.zeros(self.num_layers, batch_size, self.hidden_dim, device = device), torch.zeros(self.num_layers, batch_size, self.hidden_dim, device = device)"
      ],
      "execution_count": 0,
      "outputs": []
    },
    {
      "metadata": {
        "id": "JdJQlqpTwECt",
        "colab_type": "text"
      },
      "cell_type": "markdown",
      "source": [
        "## Training"
      ]
    },
    {
      "metadata": {
        "id": "w8M5AzqvTh4p",
        "colab_type": "code",
        "colab": {}
      },
      "cell_type": "code",
      "source": [
        "def data_gen(data, batch_size, num_batches, data_idx=0):\n",
        "    batcher = Batcher(batch_size, data, data_idx)\n",
        "    build_batch = iter(batcher)\n",
        "    for i in range(num_batches):\n",
        "        yield next(build_batch)"
      ],
      "execution_count": 0,
      "outputs": []
    },
    {
      "metadata": {
        "id": "yez0ajDqJ9Hw",
        "colab_type": "code",
        "colab": {}
      },
      "cell_type": "code",
      "source": [
        "def train(model, num_epochs=10, lr=0.003, print_every=100):\n",
        "    \n",
        "    if USE_CUDA:\n",
        "        model.cuda()\n",
        "    train_data_idx = 0\n",
        "    eval_data_idx = 0\n",
        "\n",
        "    criterion = nn.NLLLoss(reduction=\"sum\", ignore_index=PAD_IDX)\n",
        "    if USE_CUDA:\n",
        "        criterion = criterion.cuda()\n",
        "    optim = torch.optim.Adam(model.parameters(), lr=lr)\n",
        "    \n",
        "    dev_perplexities = []\n",
        "    train_perplexities = []\n",
        "    losses = []\n",
        "\n",
        "    for epoch in range(num_epochs):\n",
        "        train_data_iter = data_gen(data=train_data, batch_size=batch_size, num_batches=train_num_batches, data_idx=train_data_idx)\n",
        "        train_data_idx = (train_data_idx + (batch_size * train_num_batches)) % len(train_data)\n",
        "        \n",
        "        #hidden = model.init_hidden(batch_size)\n",
        "        model.train()\n",
        "        train_perplexity, loss = run_epoch(train_data_iter, \n",
        "                                     model,\n",
        "                                     optim,\n",
        "                                     criterion,\n",
        "                                     print_every=print_every)\n",
        "        train_perplexities.append(train_perplexity)\n",
        "        losses.append(loss)\n",
        "        model.eval()\n",
        "        eval_data_iter = data_gen(data=eval_data, batch_size=eval_batch_size, num_batches=eval_num_batches, data_idx=eval_data_idx)\n",
        "        eval_data_idx = (eval_data_idx + (eval_batch_size * eval_num_batches)) % len(eval_data)\n",
        "        with torch.no_grad():\n",
        "           #print_examples((rebatch(PAD_IDX, x) for x in valid_iter), \n",
        "           #               model, n=3, src_vocab=SRC.vocab, trg_vocab=TRG.vocab)        \n",
        "            dev_perplexity, loss = run_epoch(eval_data_iter, \n",
        "                                       model,\n",
        "                                       optim,\n",
        "                                       criterion\n",
        "                                       )\n",
        "            print(\"Epoch: {}, Validation perplexity: {}\".format(epoch, dev_perplexity))\n",
        "            dev_perplexities.append(dev_perplexity)\n",
        "            \n",
        "        if epoch % print_every == 0:\n",
        "            print(\"Epoch: {}, Loss: {}, Perplexity: {} \".format(epoch, loss, train_perplexity))\n",
        "        \n",
        "    return dev_perplexities, train_perplexities, losses"
      ],
      "execution_count": 0,
      "outputs": []
    },
    {
      "metadata": {
        "id": "ONEl7EgM0Udi",
        "colab_type": "code",
        "colab": {}
      },
      "cell_type": "code",
      "source": [
        "def run_epoch(data_iter, model, optimizer, loss_function, print_every=50):\n",
        "    \"\"\"Standard Training and Logging Function\"\"\"\n",
        "\n",
        "    start = time.time()\n",
        "    total_tokens = 0\n",
        "    total_loss = 0\n",
        "    #print_tokens = 0\n",
        "\n",
        "    for i, batch in enumerate(data_iter, 1):\n",
        "        src, trg, lens = batch\n",
        "        src = torch.tensor(src, dtype=torch.long).to(device=device)\n",
        "        trg = torch.tensor(trg, dtype=torch.long).to(device=device)\n",
        "        batch_size_ = src.size(0)\n",
        "        scores = model.forward(src, lens).to(device=device)\n",
        "        loss = loss_function(scores.view(batch_size_ * max(lens), -1).to(dtype=torch.float32), trg.view(batch_size_ * max(lens)))\n",
        "        \n",
        "        total_loss = total_loss + loss\n",
        "        #loss = loss / batch_size\n",
        "        \n",
        "        if model.training:\n",
        "            optimizer.zero_grad()\n",
        "            loss.backward()\n",
        "            optimizer.step()\n",
        "\n",
        "        total_tokens = total_tokens + sum(lens)\n",
        "\n",
        "    return math.exp(total_loss / float(total_tokens)), total_loss / float(total_tokens)"
      ],
      "execution_count": 0,
      "outputs": []
    },
    {
      "metadata": {
        "id": "FsXSVTqiWQdT",
        "colab_type": "code",
        "colab": {}
      },
      "cell_type": "code",
      "source": [
        "batch_size = 100\n",
        "eval_batch_size = 16\n",
        "vocab_size = voc.__len__()\n",
        "\n",
        "train_num_batches = len(train_data) // batch_size\n",
        "eval_num_batches = len(eval_data) // eval_batch_size"
      ],
      "execution_count": 0,
      "outputs": []
    },
    {
      "metadata": {
        "id": "5qZ_Az763r3a",
        "colab_type": "code",
        "colab": {}
      },
      "cell_type": "code",
      "source": [
        "model = Model(embedding_dim=voc.__len__(), hidden_dim=512, vocab_size=voc.__len__(), num_layers=4, dropout=0.1).to(device=device)"
      ],
      "execution_count": 0,
      "outputs": []
    },
    {
      "metadata": {
        "id": "VK-NW48QOrOa",
        "colab_type": "code",
        "outputId": "ce3e1081-be62-4b75-a4d1-61bb41ccfc13",
        "colab": {
          "base_uri": "https://localhost:8080/",
          "height": 952
        }
      },
      "cell_type": "code",
      "source": [
        "dev_perplexities, train_perplexities, loss = train(model, print_every=10, num_epochs=50, lr=0.003)"
      ],
      "execution_count": 0,
      "outputs": [
        {
          "output_type": "stream",
          "text": [
            "Epoch: 0, Validation perplexity: 7.502366441610634\n",
            "Epoch: 0, Loss: 2.015218496322632, Perplexity: 11.961264604322748 \n",
            "Epoch: 1, Validation perplexity: 5.839824648094398\n",
            "Epoch: 2, Validation perplexity: 4.90759182240103\n",
            "Epoch: 3, Validation perplexity: 4.289663231595303\n",
            "Epoch: 4, Validation perplexity: 3.782994385503826\n",
            "Epoch: 5, Validation perplexity: 3.403978279927086\n",
            "Epoch: 6, Validation perplexity: 3.0780618279279017\n",
            "Epoch: 7, Validation perplexity: 2.8527184201166516\n",
            "Epoch: 8, Validation perplexity: 2.636631016767155\n",
            "Epoch: 9, Validation perplexity: 2.51929110357708\n",
            "Epoch: 10, Validation perplexity: 2.4448328289938117\n",
            "Epoch: 10, Loss: 0.8939767479896545, Perplexity: 2.6252899951597835 \n",
            "Epoch: 11, Validation perplexity: 2.382263418888382\n",
            "Epoch: 12, Validation perplexity: 2.3349786130839205\n",
            "Epoch: 13, Validation perplexity: 2.3050068850798136\n",
            "Epoch: 14, Validation perplexity: 2.2709193902936\n",
            "Epoch: 15, Validation perplexity: 2.243022025659229\n",
            "Epoch: 16, Validation perplexity: 2.2343335113525074\n",
            "Epoch: 17, Validation perplexity: 2.219297812139945\n",
            "Epoch: 18, Validation perplexity: 2.2000255126306536\n",
            "Epoch: 19, Validation perplexity: 2.17985774938663\n",
            "Epoch: 20, Validation perplexity: 2.1586636462352753\n",
            "Epoch: 20, Loss: 0.7694893479347229, Perplexity: 2.2732782687784554 \n",
            "Epoch: 21, Validation perplexity: 2.15415821191293\n",
            "Epoch: 22, Validation perplexity: 2.136570818855434\n",
            "Epoch: 23, Validation perplexity: 2.1214381030302274\n",
            "Epoch: 24, Validation perplexity: 2.130165587950849\n",
            "Epoch: 25, Validation perplexity: 2.1225222885019055\n",
            "Epoch: 26, Validation perplexity: 2.1081425051811964\n",
            "Epoch: 27, Validation perplexity: 2.12051258235758\n",
            "Epoch: 28, Validation perplexity: 2.125539469385503\n",
            "Epoch: 29, Validation perplexity: 2.098501490541029\n",
            "Epoch: 30, Validation perplexity: 2.0944004881411646\n",
            "Epoch: 30, Loss: 0.7392673492431641, Perplexity: 2.221966851244992 \n",
            "Epoch: 31, Validation perplexity: 2.089483112648429\n",
            "Epoch: 32, Validation perplexity: 2.0868571580377484\n",
            "Epoch: 33, Validation perplexity: 2.089327937958937\n",
            "Epoch: 34, Validation perplexity: 2.0928956317413983\n",
            "Epoch: 35, Validation perplexity: 2.0819331709390174\n",
            "Epoch: 36, Validation perplexity: 2.0576380548708793\n",
            "Epoch: 37, Validation perplexity: 2.051670490108689\n",
            "Epoch: 38, Validation perplexity: 2.052810173992017\n",
            "Epoch: 39, Validation perplexity: 2.042597560752456\n",
            "Epoch: 40, Validation perplexity: 2.029943200270645\n",
            "Epoch: 40, Loss: 0.7080078125, Perplexity: 2.182089523247144 \n",
            "Epoch: 41, Validation perplexity: 2.0281822912066056\n",
            "Epoch: 42, Validation perplexity: 2.014852449424073\n",
            "Epoch: 43, Validation perplexity: 2.0121363016557603\n",
            "Epoch: 44, Validation perplexity: 2.0060205334239773\n",
            "Epoch: 45, Validation perplexity: 2.00059912020764\n",
            "Epoch: 46, Validation perplexity: 1.9978406212144388\n",
            "Epoch: 47, Validation perplexity: 1.991879427599273\n",
            "Epoch: 48, Validation perplexity: 1.9908916409440607\n",
            "Epoch: 49, Validation perplexity: 1.9900790607174899\n"
          ],
          "name": "stdout"
        }
      ]
    },
    {
      "metadata": {
        "id": "IUxW_c2SMIMj",
        "colab_type": "code",
        "outputId": "0c5cf7b8-a5bc-4db4-d5a6-e3ea6eea98a9",
        "colab": {
          "base_uri": "https://localhost:8080/",
          "height": 295
        }
      },
      "cell_type": "code",
      "source": [
        "plt.plot(loss)\n",
        "plt.title(\"Loss\")\n",
        "plt.xlabel(\"number of epochs\")\n",
        "plt.show()"
      ],
      "execution_count": 0,
      "outputs": [
        {
          "output_type": "display_data",
          "data": {
            "image/png": "[encoded data removed]",
            "text/plain": [
              "<Figure size 432x288 with 1 Axes>"
            ]
          },
          "metadata": {
            "tags": []
          }
        }
      ]
    },
    {
      "metadata": {
        "id": "ZH1FvJ26MLXV",
        "colab_type": "code",
        "outputId": "7ab335f4-0e44-4c88-bf5b-b765fe57e41e",
        "colab": {
          "base_uri": "https://localhost:8080/",
          "height": 463
        }
      },
      "cell_type": "code",
      "source": [
        "plt.figure(figsize=(12,7))\n",
        "plt.plot(dev_perplexities, label=\"validation\")\n",
        "plt.plot(train_perplexities, label=\"train\")\n",
        "plt.legend(fontsize=13)\n",
        "plt.title(\"Perplexity\", fontsize=16)\n",
        "plt.xlabel(\"number of epochs\", fontsize=12)\n",
        "plt.show()"
      ],
      "execution_count": 0,
      "outputs": [
        {
          "output_type": "display_data",
          "data": {
            "image/png": "[encoded data removed]",
            "text/plain": [
              "<Figure size 864x504 with 1 Axes>"
            ]
          },
          "metadata": {
            "tags": []
          }
        }
      ]
    },
    {
      "metadata": {
        "id": "ma4C7vAfGF5P",
        "colab_type": "code",
        "colab": {}
      },
      "cell_type": "code",
      "source": [
        "torch.save(model.state_dict(), \"/content/drive/My Drive/Colab Notebooks/DL in NLP/Work3/LSTM\")"
      ],
      "execution_count": 0,
      "outputs": []
    },
    {
      "metadata": {
        "id": "fvpg0J3VwNWG",
        "colab_type": "text"
      },
      "cell_type": "markdown",
      "source": [
        "## Predictions and probabilities per-symbol on test sample"
      ]
    },
    {
      "metadata": {
        "id": "SssCyhAyzY07",
        "colab_type": "code",
        "colab": {}
      },
      "cell_type": "code",
      "source": [
        "import pandas as pd"
      ],
      "execution_count": 0,
      "outputs": []
    },
    {
      "metadata": {
        "id": "2WWAbbfetdQN",
        "colab_type": "code",
        "outputId": "f09aa1b9-ae3e-4d55-d059-d87d569f088e",
        "colab": {
          "base_uri": "https://localhost:8080/",
          "height": 5117
        }
      },
      "cell_type": "code",
      "source": [
        "def compute_probs(data, model, num_exams=20, data_idx=0):\n",
        "    data_iter = data_gen(data=data, batch_size=1, num_batches=num_exams, data_idx=data_idx)\n",
        "    probs = []\n",
        "    hidden = model.init_hidden(batch_size=1)\n",
        "    for i, batch in enumerate(data_iter, 1):\n",
        "      src, trg, lens = batch\n",
        "      src = torch.tensor(src, dtype=torch.long).to(device=device)\n",
        "      trg = torch.tensor(trg, dtype=torch.long).to(device=device)\n",
        "      batch_size = src.size(0)\n",
        "      model.eval()\n",
        "      scores = model.forward(src, lens).to(device=device)\n",
        "      scores = scores[0].to(device='cpu').detach().numpy()\n",
        "      trg = trg.to(device='cpu')\n",
        "      sc = np.exp(scores)\n",
        "      trg_word = [voc.idx2tok(x) for x in trg[0].detach().numpy()]\n",
        "      pred_word = [voc.idx2tok(x) for x in np.argmax(scores, axis=1)]\n",
        "      #print(''.join(pred_word), '\\t||\\t',\\\n",
        "      #      ''.join(trg_word))\n",
        "      x = []\n",
        "      for j in range(len(scores)):\n",
        "          x.append(math.exp(scores[j, trg[0, j]]))\n",
        "      probs.append((np.prod(x), lens[0], 1/voc.__len__()**(lens[0])))\n",
        "      x = np.round(x, 2)\n",
        "      #print({trg_word[i]: x[i] for i, _ in enumerate(x)})\n",
        "      df = pd.DataFrame({i: [pred_word[i], trg_word[i], x[i]] for i, _ in enumerate(x)})\n",
        "      print(\"Example %d\" % i) \n",
        "      print(df)\n",
        "      print(\"\\nProbability of the whole word: {}\\nlength of the word: {}\\nprobability from the random model: {}\".format(probs[-1][0], probs[-1][1], probs[-1][2]))\n",
        "      print(\"###################################################################\")\n",
        "      \n",
        "data_idx = np.random.randint(len(test_data)-21)\n",
        "compute_probs(test_data, model, num_exams=30, data_idx=data_idx)"
      ],
      "execution_count": 0,
      "outputs": [
        {
          "output_type": "stream",
          "text": [
            "Example 1\n",
            "      0     1     2     3     4     5  6  7      8\n",
            "0     р     и     п     т     н     у  т  ь  <EOS>\n",
            "1     р     у     с     т     н     у  т  ь  <EOS>\n",
            "2  0.22  0.15  0.26  0.99  0.97  0.98  1  1      1\n",
            "\n",
            "Probability of the whole word: 0.008012112472980209\n",
            "length of the word: 9\n",
            "probability from the random model: 1.2687837297914905e-14\n",
            "###################################################################\n",
            "Example 2\n",
            "      0     1     2  3  4     5     6     7     8      9\n",
            "0     е     к     р  о  в     ы     ш     н     я  <EOS>\n",
            "1     а     в     р  о  в     и     ш     н     я  <EOS>\n",
            "2  0.17  0.09  0.72  1  1  0.07  0.99  0.97  0.99      1\n",
            "\n",
            "Probability of the whole word: 0.0007541182036997976\n",
            "length of the word: 10\n",
            "probability from the random model: 3.62509637083283e-16\n",
            "###################################################################\n",
            "Example 3\n",
            "    0     1    2     3  4     5  6  7  8  9      10\n",
            "0    б     о    е     с  н     я  т  ь  с  я  <EOS>\n",
            "1    б     ъ    я     с  н     я  т  ь  с  я  <EOS>\n",
            "2  0.3  0.11  0.4  0.46  1  0.37  1  1  1  1      1\n",
            "\n",
            "Probability of the whole word: 0.0022969331518556744\n",
            "length of the word: 11\n",
            "probability from the random model: 1.0357418202379514e-17\n",
            "###################################################################\n",
            "Example 4\n",
            "      0     1     2     3     4     5      6\n",
            "0     р     д     с     б     о     к  <EOS>\n",
            "1     о     д     о     н     о     к  <EOS>\n",
            "2  0.32  0.21  0.11  0.05  0.98  0.94      1\n",
            "\n",
            "Probability of the whole word: 0.0003568540138936183\n",
            "length of the word: 7\n",
            "probability from the random model: 1.554260068994576e-11\n",
            "###################################################################\n",
            "Example 5\n",
            "      0     1     2     3  4     5     6     7  8      9\n",
            "0     а     к     я     е  р     д     е     т  ь  <EOS>\n",
            "1     а     т     в     е  р     д     е     т  ь  <EOS>\n",
            "2  0.83  0.09  0.05  0.93  1  0.85  0.66  0.98  1      1\n",
            "\n",
            "Probability of the whole word: 0.0019968832511617044\n",
            "length of the word: 10\n",
            "probability from the random model: 3.62509637083283e-16\n",
            "###################################################################\n",
            "Example 6\n",
            "     0     1     2     3  4  5  6      7\n",
            "0    р     а     ю     к  и  с  т  <EOS>\n",
            "1    р     о     ц     к  и  с  т  <EOS>\n",
            "2  0.4  0.17  0.14  0.99  1  1  1      1\n",
            "\n",
            "Probability of the whole word: 0.0098262108870854\n",
            "length of the word: 8\n",
            "probability from the random model: 4.440743054270217e-13\n",
            "###################################################################\n",
            "Example 7\n",
            "      0     1     2     3     4     5  6      7\n",
            "0     т     р     о     р     н     ы  й  <EOS>\n",
            "1     к     в     е     р     н     ы  й  <EOS>\n",
            "2  0.07  0.02  0.42  0.99  0.99  0.99  1      1\n",
            "\n",
            "Probability of the whole word: 0.0006399118678483258\n",
            "length of the word: 8\n",
            "probability from the random model: 4.440743054270217e-13\n",
            "###################################################################\n",
            "Example 8\n",
            "      0     1     2      3\n",
            "0     е     л     ь  <EOS>\n",
            "1     и     т     о  <EOS>\n",
            "2  0.32  0.13  0.31      1\n",
            "\n",
            "Probability of the whole word: 0.013394948040309987\n",
            "length of the word: 4\n",
            "probability from the random model: 6.663890045814244e-07\n",
            "###################################################################\n",
            "Example 9\n",
            "     0     1     2     3  4  5  6  7     8  9  10    11 12     13\n",
            "0     р     с     е     ш  е  с  т  в     о  в  а     т  ь  <EOS>\n",
            "1     у     т     е     ш  е  с  т  в     о  в  а     т  ь  <EOS>\n",
            "2  0.04  0.18  0.54  0.48  1  1  1  1  0.62  1  1  0.99  1   0.99\n",
            "\n",
            "Probability of the whole word: 0.0010471806673894115\n",
            "length of the word: 14\n",
            "probability from the random model: 2.4157243620710237e-22\n",
            "###################################################################\n",
            "Example 10\n",
            "      0     1     2     3     4     5     6  7     8      9\n",
            "0     а     о     с     ч     о     в     и  т     ь  <EOS>\n",
            "1     л     о     с     л     о     в     и  т     ь  <EOS>\n",
            "2  0.02  0.94  0.33  0.25  0.99  0.99  0.95  1  0.99      1\n",
            "\n",
            "Probability of the whole word: 0.0016598593083116799\n",
            "length of the word: 10\n",
            "probability from the random model: 3.62509637083283e-16\n",
            "###################################################################\n",
            "Example 11\n",
            "      0     1    2    3     4     5  6  7      8\n",
            "0     а     к    о    ы     т     а  т  ь  <EOS>\n",
            "1     а     п    л    ы     в     а  т  ь  <EOS>\n",
            "2  0.83  0.11  0.1  0.5  0.22  0.99  1  1   0.97\n",
            "\n",
            "Probability of the whole word: 0.0009694547756156959\n",
            "length of the word: 9\n",
            "probability from the random model: 1.2687837297914905e-14\n",
            "###################################################################\n",
            "Example 12\n",
            "     0     1     2     3     4     5     6  7     8  9      10\n",
            "0     р     и     д     б     о     л     е  н     и  е  <EOS>\n",
            "1     р     е     о     д     о     л     е  н     и  е  <EOS>\n",
            "2  0.37  0.21  0.06  0.08  0.99  0.99  0.96  1  0.97  1      1\n",
            "\n",
            "Probability of the whole word: 0.0003668390687714278\n",
            "length of the word: 11\n",
            "probability from the random model: 1.0357418202379514e-17\n",
            "###################################################################\n",
            "Example 13\n",
            "      0     1     2     3  4  5      6\n",
            "0     о     н     а     ч  и  й  <EOS>\n",
            "1     о     ш     а     ч  и  й  <EOS>\n",
            "2  0.33  0.04  0.34  0.99  1  1      1\n",
            "\n",
            "Probability of the whole word: 0.004768392464866734\n",
            "length of the word: 7\n",
            "probability from the random model: 1.554260068994576e-11\n",
            "###################################################################\n",
            "Example 14\n",
            "    0     1     2     3     4  5  6  7  8  9      10\n",
            "0    с     р     р     и     н  а  т  ь  с  я  <EOS>\n",
            "1    п     о     м     и     н  а  т  ь  с  я  <EOS>\n",
            "2  0.1  0.19  0.16  0.96  0.98  1  1  1  1  1      1\n",
            "\n",
            "Probability of the whole word: 0.003013970388266186\n",
            "length of the word: 11\n",
            "probability from the random model: 1.0357418202379514e-17\n",
            "###################################################################\n",
            "Example 15\n",
            "      0     1    2     3      4\n",
            "0     о     е    л     а  <EOS>\n",
            "1     с     и    в     а  <EOS>\n",
            "2  0.01  0.23  0.4  0.89   0.99\n",
            "\n",
            "Probability of the whole word: 0.0010976342648590528\n",
            "length of the word: 5\n",
            "probability from the random model: 1.9039685845183556e-08\n",
            "###################################################################\n",
            "Example 16\n",
            "     0     1    2  3  4  5  6  7  8  9  10     11\n",
            "0     т     е    й  с  т  в  е  н  н  ы  й  <EOS>\n",
            "1     в     о    й  с  т  в  е  н  н  ы  й  <EOS>\n",
            "2  0.07  0.18  0.3  1  1  1  1  1  1  1  1      1\n",
            "\n",
            "Probability of the whole word: 0.003481725416475415\n",
            "length of the word: 12\n",
            "probability from the random model: 2.959262343537004e-19\n",
            "###################################################################\n",
            "Example 17\n",
            "      0     1     2     3      4\n",
            "0     р     р     и     т  <EOS>\n",
            "1     и     л     о     т  <EOS>\n",
            "2  0.03  0.17  0.22  0.97   0.98\n",
            "\n",
            "Probability of the whole word: 0.0011929200701329204\n",
            "length of the word: 5\n",
            "probability from the random model: 1.9039685845183556e-08\n",
            "###################################################################\n",
            "Example 18\n",
            "      0     1     2     3     4     5     6  7  8      9\n",
            "0     р     и     с     л     ж     ч     а  т  ь  <EOS>\n",
            "1     р     о     б     у     р     ч     а  т  ь  <EOS>\n",
            "2  0.37  0.32  0.04  0.18  0.16  0.99  0.99  1  1      1\n",
            "\n",
            "Probability of the whole word: 0.00014136824323103542\n",
            "length of the word: 10\n",
            "probability from the random model: 3.62509637083283e-16\n",
            "###################################################################\n",
            "Example 19\n",
            "      0     1     2     3     4  5  6  7  8      9\n",
            "0     з     о     е     н     я  т  ь  с  я  <EOS>\n",
            "1     з     м     е     н     я  т  ь  с  я  <EOS>\n",
            "2  0.32  0.14  0.37  0.91  0.43  1  1  1  1      1\n",
            "\n",
            "Probability of the whole word: 0.006668433831371644\n",
            "length of the word: 10\n",
            "probability from the random model: 3.62509637083283e-16\n",
            "###################################################################\n",
            "Example 20\n",
            "     0     1     2     3     4     5     6  7     8  9      10\n",
            "0     р     и     с     е     в     а     т  ь     с  я  <EOS>\n",
            "1     р     о     л     и     в     а     т  ь     с  я  <EOS>\n",
            "2  0.37  0.32  0.05  0.22  0.99  0.99  0.99  1  0.99  1      1\n",
            "\n",
            "Probability of the whole word: 0.001238602143174308\n",
            "length of the word: 11\n",
            "probability from the random model: 1.0357418202379514e-17\n",
            "###################################################################\n",
            "Example 21\n",
            "      0     1     2     3     4      5\n",
            "0     а     з     е     о     й  <EOS>\n",
            "1     е     ч     н     о     й  <EOS>\n",
            "2  0.24  0.02  0.21  0.97  0.99      1\n",
            "\n",
            "Probability of the whole word: 0.0011390738829990994\n",
            "length of the word: 6\n",
            "probability from the random model: 5.439910241481016e-10\n",
            "###################################################################\n",
            "Example 22\n",
            "      0     1     2     3  4    5  6      7\n",
            "0     о     л     о     т  ь    с  я  <EOS>\n",
            "1     о     р     ы     т  ь    с  я  <EOS>\n",
            "2  0.35  0.11  0.17  0.98  1  0.6  1      1\n",
            "\n",
            "Probability of the whole word: 0.003698417780194552\n",
            "length of the word: 8\n",
            "probability from the random model: 4.440743054270217e-13\n",
            "###################################################################\n",
            "Example 23\n",
            "      0    1     2     3     4  5      6\n",
            "0     о    н     о     и     т  ь  <EOS>\n",
            "1     о    р     ч     и     т  ь  <EOS>\n",
            "2  0.33  0.2  0.01  0.99  0.99  1   0.93\n",
            "\n",
            "Probability of the whole word: 0.0008802953798053735\n",
            "length of the word: 7\n",
            "probability from the random model: 1.554260068994576e-11\n",
            "###################################################################\n",
            "Example 24\n",
            "      0     1     2      3\n",
            "0     б     г     н  <EOS>\n",
            "1     р     е     х  <EOS>\n",
            "2  0.05  0.05  0.47      1\n",
            "\n",
            "Probability of the whole word: 0.0011463379882616245\n",
            "length of the word: 4\n",
            "probability from the random model: 6.663890045814244e-07\n",
            "###################################################################\n",
            "Example 25\n",
            "    0     1     2     3     4  5  6  7  8     9  10 11     12\n",
            "0    б     о     т     о     я  т  е  л  ь     н  ы  й  <EOS>\n",
            "1    б     с     т     о     я  т  е  л  ь     н  ы  й  <EOS>\n",
            "2  0.3  0.02  0.72  0.65  0.99  1  1  1  1  0.99  1  1      1\n",
            "\n",
            "Probability of the whole word: 0.0032091198002333803\n",
            "length of the word: 13\n",
            "probability from the random model: 8.455035267248583e-21\n",
            "###################################################################\n",
            "Example 26\n",
            "      0     1     2     3     4     5  6  7  8      9\n",
            "0     о     л     у     р     л     и  в  ы  й  <EOS>\n",
            "1     о     к     у     ч     л     и  в  ы  й  <EOS>\n",
            "2  0.35  0.04  0.57  0.48  0.99  0.99  1  1  1      1\n",
            "\n",
            "Probability of the whole word: 0.0038055081379041165\n",
            "length of the word: 10\n",
            "probability from the random model: 3.62509637083283e-16\n",
            "###################################################################\n",
            "Example 27\n",
            "      0  1     2     3     4     5  6  7      8\n",
            "0     д  е     н     а     с     н  ы  й  <EOS>\n",
            "1     ж  е     ч     а     с     н  ы  й  <EOS>\n",
            "2  0.09  1  0.04  0.96  0.98  0.99  1  1      1\n",
            "\n",
            "Probability of the whole word: 0.003582756541160943\n",
            "length of the word: 9\n",
            "probability from the random model: 1.2687837297914905e-14\n",
            "###################################################################\n",
            "Example 28\n",
            "      0     1     2     3     4     5    6      7\n",
            "0     т     р     д     е     ч     н    о  <EOS>\n",
            "1     е     р     д     е     ч     н    о  <EOS>\n",
            "2  0.07  0.33  0.31  0.61  0.98  0.97  0.8      1\n",
            "\n",
            "Probability of the whole word: 0.003349749522980095\n",
            "length of the word: 8\n",
            "probability from the random model: 4.440743054270217e-13\n",
            "###################################################################\n",
            "Example 29\n",
            "      0     1     2     3  4  5      6\n",
            "0     е     с     а     к  и  й  <EOS>\n",
            "1     е     ж     а     ч  и  й  <EOS>\n",
            "2  0.35  0.03  0.95  0.45  1  1      1\n",
            "\n",
            "Probability of the whole word: 0.004330488117465522\n",
            "length of the word: 7\n",
            "probability from the random model: 1.554260068994576e-11\n",
            "###################################################################\n",
            "Example 30\n",
            "    0     1     2     3     4     5     6  7     8     9  10     11\n",
            "0    ы     с     н     о     б     л     е  н     н     ы  я  <EOS>\n",
            "1    о     з     л     ю     б     л     е  н     н     а  я  <EOS>\n",
            "2  0.2  0.18  0.16  0.24  0.98  0.98  0.98  1  0.99  0.25  1      1\n",
            "\n",
            "Probability of the whole word: 0.0003129659854094874\n",
            "length of the word: 12\n",
            "probability from the random model: 2.959262343537004e-19\n",
            "###################################################################\n"
          ],
          "name": "stdout"
        }
      ]
    },
    {
      "metadata": {
        "id": "p7pFkZiFs_56",
        "colab_type": "code",
        "colab": {}
      },
      "cell_type": "code",
      "source": [
        ""
      ],
      "execution_count": 0,
      "outputs": []
    }
  ]
}